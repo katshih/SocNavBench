{
 "cells": [
  {
   "cell_type": "code",
   "execution_count": null,
   "metadata": {},
   "outputs": [],
   "source": [
    "import os, glob\n",
    "from PIL import Image\n",
    "import numpy as np\n",
    "import subprocess"
   ]
  },
  {
   "cell_type": "code",
   "execution_count": null,
   "metadata": {},
   "outputs": [],
   "source": [
    "out_dir = 'render_out'\n",
    "if not os.path.exists(out_dir):\n",
    "    os.mkdir(out_dir)"
   ]
  },
  {
   "cell_type": "code",
   "execution_count": null,
   "metadata": {},
   "outputs": [],
   "source": [
    "robot_paths = glob.glob('tests/socnav/render*_robot*')\n",
    "\n",
    "for series in glob.glob('tests/socnav/render*_bg*'):\n",
    "    print(series)\n",
    "    seq = series.split('/')[-1][7:-16]\n",
    "    \n",
    "    seq_out = os.path.join(out_dir,seq)\n",
    "    if not os.path.exists(seq_out):\n",
    "        os.mkdir(seq_out)\n",
    "    \n",
    "    sorted_img = sorted(glob.glob(os.path.join(series,seq,'*.png')))\n",
    "    \n",
    "    robot_idx = []\n",
    "    for i in range(1,5):\n",
    "        pot_series = series.replace('bg','robot{}'.format(i))\n",
    "        if pot_series in robot_paths:\n",
    "            robot_idx.append(i)\n",
    "    most_recent = {}\n",
    "\n",
    "    for idx,img_path in enumerate(sorted_img):\n",
    "        bg = Image.open(img_path)\n",
    "        to_paste = []\n",
    "        valid = False\n",
    "        for rob_idx in robot_idx:\n",
    "            r_path = img_path.replace('_bg_','_robot{}_'.format(rob_idx))\n",
    "            try:\n",
    "                fg = np.array(Image.open(r_path))\n",
    "                fg_v = fg.reshape((-1,4))\n",
    "                fg_v[fg_v.sum(1) == 255] = 0\n",
    "                valid = True\n",
    "                most_recent[rob_idx] = fg\n",
    "                to_paste.append(fg)\n",
    "            except:\n",
    "                to_paste.append(most_recent[rob_idx])\n",
    "        if valid:\n",
    "            for fg in to_paste:\n",
    "                bg.paste(Image.fromarray(fg),(0,0),Image.fromarray(fg))\n",
    "            bg.save(os.path.join(seq_out,'{:03d}.png'.format(idx)))\n",
    "            #print(idx)\n",
    "        else:\n",
    "            break\n",
    "    ffmpeg_pngs_to_mp4: str = \"ffmpeg {ow} {logs} {fps} {inputs} {mp4} {q} {pad} {out}\".format(\n",
    "        ow=\"-y\",  # force overwrite\n",
    "        logs=\"-hide_banner -loglevel error\",  # ignore logs\n",
    "        fps=\"-framerate {}\".format(20),  # set framerate of resulting movie\n",
    "        inputs=\"-pattern_type glob -i '{}'\".format(os.path.join(seq_out, \"*.png\")),\n",
    "        mp4=\"-c:v h264 -pix_fmt yuv420p\",  # video codec\n",
    "        q=\"-preset veryfast\",  # decrease the quality by 0\n",
    "        pad='-vf \"pad=ceil(iw/2)*2:ceil(ih/2)*2\"', # make image work\n",
    "        out='comp_{}.mp4'.format(seq),\n",
    "    )\n",
    "    error_val = subprocess.call(ffmpeg_pngs_to_mp4, shell=True)"
   ]
  }
 ],
 "metadata": {
  "language_info": {
   "name": "python"
  }
 },
 "nbformat": 4,
 "nbformat_minor": 5
}

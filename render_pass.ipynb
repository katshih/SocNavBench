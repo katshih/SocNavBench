{
 "cells": [
  {
   "cell_type": "code",
   "execution_count": null,
   "metadata": {},
   "outputs": [],
   "source": [
    "from tune_util import *\n",
    "import numpy as np"
   ]
  },
  {
   "cell_type": "code",
   "execution_count": null,
   "metadata": {},
   "outputs": [],
   "source": [
    "import cma\n",
    "import random\n",
    "import configparser\n",
    "import os\n",
    "episodes_config = configparser.ConfigParser(\n",
    "    allow_no_value=True, inline_comment_prefixes=\";\"\n",
    ")\n",
    "episodes_config.read(os.path.join(os.getcwd(), \"params/episode_params_val.ini\"))\n",
    "series = episodes_config.sections()[1:]"
   ]
  },
  {
   "cell_type": "code",
   "execution_count": null,
   "metadata": {},
   "outputs": [],
   "source": [
    "series"
   ]
  },
  {
   "cell_type": "code",
   "execution_count": null,
   "metadata": {},
   "outputs": [],
   "source": [
    "params_dict = {'t_zara1_dense_crosswrap_rev':[ 2.63897973 , 0.38382201,  1.26412721  ,6.73603684 , 1.52427416 , 0.04802919,\n",
    " -0.82221351 , 0.76302428 ,-1.03135307,  0.57871277,  0.50016272 , 0.05366371],\n",
    "               't_eth_dense_against': [ 3.7264631,   0.29334961 , 2.40438078,  6.87579062 , 1.47585272 , 0.10135509,\n",
    " -0.24749666 , 1.03559081 ,-0.36587255,  0.73995179,  0.68028155 ,-0.17098775]\n",
    "              }"
   ]
  },
  {
   "cell_type": "code",
   "execution_count": null,
   "metadata": {},
   "outputs": [],
   "source": [
    "for seq,params in params_dict.items():\n",
    "    res = exec_seqs(params, 'render_{}_robot2'.format(seq), [seq] + ['--render'])"
   ]
  },
  {
   "cell_type": "code",
   "execution_count": null,
   "metadata": {},
   "outputs": [],
   "source": []
  }
 ],
 "metadata": {
  "language_info": {
   "name": "python"
  }
 },
 "nbformat": 4,
 "nbformat_minor": 5
}

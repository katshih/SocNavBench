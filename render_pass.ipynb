{
 "cells": [
  {
   "cell_type": "code",
   "execution_count": null,
   "metadata": {},
   "outputs": [],
   "source": [
    "from tune_util import *\n",
    "import numpy as np"
   ]
  },
  {
   "cell_type": "code",
   "execution_count": null,
   "metadata": {},
   "outputs": [],
   "source": [
    "import cma\n",
    "import random\n",
    "import configparser\n",
    "import os\n",
    "episodes_config = configparser.ConfigParser(\n",
    "    allow_no_value=True, inline_comment_prefixes=\";\"\n",
    ")\n",
    "episodes_config.read(os.path.join(os.getcwd(), \"params/episode_params_val.ini\"))\n",
    "series = episodes_config.sections()[1:]"
   ]
  },
  {
   "cell_type": "code",
   "execution_count": null,
   "metadata": {},
   "outputs": [],
   "source": [
    "series"
   ]
  },
  {
   "cell_type": "code",
   "execution_count": null,
   "metadata": {},
   "outputs": [],
   "source": [
    "paramIdx = 3\n",
    "seqIdx = 3\n",
    "\n",
    "seqs = ['t_eth_dense_against', 't_univ_across', 't_zara1_dense_crosswrap_rev', 't_dhotel_bottopmid']\n",
    "params = ['default', 'auto', 'dorsa', 'man']\n",
    "#param_sets = ['dorsa_' + s for s in seqs] #['default', 'auto_global', 'auto_batch'] + ['auto_' + s for s in seqs] + ['dorsa_' + s for s in seqs] + ['man_' + s for s in seqs]\n",
    "\n",
    "params_dict = {}\n",
    "\n",
    "if(params[paramIdx] == 'default'):\n",
    "    params = np.array(list(np.log(np.array([10,1,3,1000,4,1,0.8,2,0.35,2,3]))) + [0.0])\n",
    "else:\n",
    "    filename = './tests/socnav/' + params[paramIdx] + '_' + seqs[seqIdx] + '_results.pkl'\n",
    "    print(filename)\n",
    "    with open(filename, 'rb') as fp:\n",
    "        d = pickle.load(fp)\n",
    "    params = d['cfg']\n",
    "params_dict = {seqs[seqIdx]: params}"
   ]
  },
  {
   "cell_type": "code",
   "execution_count": null,
   "metadata": {},
   "outputs": [],
   "source": [
    "params_dict"
   ]
  },
  {
   "cell_type": "markdown",
   "metadata": {},
   "source": [
    "params_dict = {'t_zara1_dense_crosswrap_rev':[ 2.63897973 , 0.38382201,  1.26412721  ,6.73603684 , 1.52427416 , 0.04802919,\n",
    " -0.82221351 , 0.76302428 ,-1.03135307,  0.57871277,  0.50016272 , 0.05366371],\n",
    "               't_eth_dense_against': [ 3.7264631,   0.29334961 , 2.40438078,  6.87579062 , 1.47585272 , 0.10135509,\n",
    " -0.24749666 , 1.03559081 ,-0.36587255,  0.73995179,  0.68028155 ,-0.17098775]\n",
    "              }"
   ]
  },
  {
   "cell_type": "code",
   "execution_count": null,
   "metadata": {},
   "outputs": [],
   "source": [
    "for seq,params in params_dict.items():\n",
    "    res = exec_seqs(params, 'render_{}_robot{}'.format(seq, paramIdx + 1), [seq] + ['--render', '--subset', '1'])"
   ]
  },
  {
   "cell_type": "code",
   "execution_count": null,
   "metadata": {},
   "outputs": [],
   "source": []
  }
 ],
 "metadata": {
  "language_info": {
   "name": "python"
  }
 },
 "nbformat": 4,
 "nbformat_minor": 5
}

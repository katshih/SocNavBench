{
 "cells": [
  {
   "cell_type": "code",
   "execution_count": null,
   "metadata": {},
   "outputs": [],
   "source": [
    "from tune_util import *\n",
    "import numpy as np"
   ]
  },
  {
   "cell_type": "code",
   "execution_count": null,
   "metadata": {},
   "outputs": [],
   "source": [
    "import cma\n",
    "import random\n",
    "import configparser\n",
    "import os\n",
    "episodes_config = configparser.ConfigParser(\n",
    "    allow_no_value=True, inline_comment_prefixes=\";\"\n",
    ")\n",
    "episodes_config.read(os.path.join(os.getcwd(), \"params/episode_params_val.ini\"))\n",
    "series = episodes_config.sections()[1:]"
   ]
  },
  {
   "cell_type": "code",
   "execution_count": null,
   "metadata": {},
   "outputs": [],
   "source": [
    "def_num = np.array([10,1,3,1000,4,1,0.8,2,0.35,2,3])\n",
    "def_num_log = np.array(list(np.log(def_num)) + [0.0])\n",
    "params_vec = [def_num_log,def_num_log]"
   ]
  },
  {
   "cell_type": "code",
   "execution_count": null,
   "metadata": {},
   "outputs": [],
   "source": [
    "for params,seq in zip(params_vec,series):\n",
    "    res = exec_seqs(params, 'render_{}_bg'.format(seq), [seq] + ['--render'])"
   ]
  }
 ],
 "metadata": {
  "language_info": {
   "name": "python"
  }
 },
 "nbformat": 4,
 "nbformat_minor": 5
}

{
 "cells": [
  {
   "cell_type": "code",
   "execution_count": null,
   "metadata": {},
   "outputs": [],
   "source": [
    "from tune_util import *\n",
    "import numpy as np"
   ]
  },
  {
   "cell_type": "code",
   "execution_count": null,
   "metadata": {},
   "outputs": [],
   "source": [
    "import cma\n",
    "import random\n",
    "import configparser\n",
    "import os\n",
    "episodes_config = configparser.ConfigParser(\n",
    "    allow_no_value=True, inline_comment_prefixes=\";\"\n",
    ")\n",
    "episodes_config.read(os.path.join(os.getcwd(), \"params/episode_params_val.ini\"))\n",
    "series = episodes_config.sections()[1:]"
   ]
  },
  {
   "cell_type": "code",
   "execution_count": null,
   "metadata": {},
   "outputs": [],
   "source": [
    "def_num = np.array([10,1,3,1000,4,1,0.8,2,0.35,2,3])\n",
    "def_num_log = np.array(list(np.log(def_num)) + [0.0])\n",
    "train_type = 'global' #'global', 'batch', 'individual'\n",
    "port_num = 2112\n",
    "suffix = '_long'\n",
    "seq = 't_univ_across' #'t_zara1_dense_crosswrap_rev' 't_eth_dense_against' 't_univ_across' 't_dhotel_bottopmid'"
   ]
  },
  {
   "cell_type": "code",
   "execution_count": null,
   "metadata": {},
   "outputs": [],
   "source": [
    "my_log = []\n",
    "# res = exec_seqs(def_num_log,'test_eval',[random.choice(series)],log_file=my_log)\n",
    "# res"
   ]
  },
  {
   "cell_type": "code",
   "execution_count": null,
   "metadata": {},
   "outputs": [],
   "source": [
    "es = cma.CMAEvolutionStrategy(def_num_log, 0.1)\n",
    "\n",
    "batch_iter = 0\n",
    "max_batch = 100 #len(series)*15 if train_type == 'batch' else 15\n",
    "\n",
    "seq_idxs = list(range(len(series)))\n",
    "\n",
    "while batch_iter < max_batch:\n",
    "    if((train_type == 'batch') and (batch_iter % len(series) == 0)):\n",
    "        random.shuffle(seq_idxs)\n",
    "    solutions = es.ask()\n",
    "    r_vals = []\n",
    "    if(train_type == 'global'):\n",
    "        for params in solutions:\n",
    "            res = exec_seqs(params, 'cma_' + train_type, series, log_file=my_log, port=port_num)\n",
    "            r_vals.append(res)\n",
    "    elif(train_type == 'batch'):\n",
    "        chosen = series[seq_idxs[batch_iter % len(series)]]\n",
    "        for params in solutions:\n",
    "            res = exec_seqs(params, 'cma_' + train_type, [chosen], log_file=my_log, port=port_num)\n",
    "            r_vals.append(res)\n",
    "    elif(train_type == 'individual'):\n",
    "        for params in solutions:\n",
    "            res = exec_seqs(params, 'cma_' + train_type + '_' + seq, [seq], log_file=my_log, port=port_num)\n",
    "            r_vals.append(res)\n",
    "        \n",
    "    es.tell(solutions, r_vals)\n",
    "    es.logger.add()\n",
    "    es.disp()\n",
    "    batch_iter += 1"
   ]
  },
  {
   "cell_type": "code",
   "execution_count": null,
   "metadata": {},
   "outputs": [],
   "source": [
    "results = {'cfg':es.best.x,'func':es.best.f,'log':my_log}\n",
    "import glob\n",
    "import pickle\n",
    "#N=len(glob.glob('results*.pkl'))\n",
    "with open('./tests/socnav/auto_{}{}_results.pkl'.format((seq if train_type == 'individual' else train_type), suffix),'wb') as fp:\n",
    "    pickle.dump(results,fp)"
   ]
  },
  {
   "cell_type": "code",
   "execution_count": null,
   "metadata": {},
   "outputs": [],
   "source": [
    "base_path = './tests/socnav/auto_{}{}_cmalogger'.format((seq if train_type == 'individual' else train_type), suffix) \n",
    "\n",
    "if os.path.exists(base_path):\n",
    "    shutil.rmtree(base_path)\n",
    "os.mkdir(base_path)    \n",
    "es.logger.save_to(base_path + '/auto_{}{}_cmalogger_'.format((seq if train_type == 'individual' else train_type), suffix))"
   ]
  },
  {
   "cell_type": "code",
   "execution_count": null,
   "metadata": {},
   "outputs": [],
   "source": [
    "# if(train_type == 'global'):\n",
    "#     (res1, res2) = (0, 0)\n",
    "#     res1 = exec_seqs(def_num_log, 'test_eval', series, log_file=my_log)\n",
    "#     res2 = exec_seqs(es.best.x, 'test_eval', series, log_file=my_log)\n",
    "# elif(train_type == 'stochastic'):\n",
    "#     chosen = [random.choice(series)]\n",
    "#     res1 = exec_seqs(def_num_log,'test_eval',chosen)\n",
    "#     res2 = exec_seqs(es.best.x,'test_eval',chosen)\n",
    "\n",
    "# res1,res2"
   ]
  },
  {
   "cell_type": "code",
   "execution_count": null,
   "metadata": {},
   "outputs": [],
   "source": [
    "' '.join(['{:.03f}'.format(_) for _ in list(np.exp(es.best.x[:-1])) + [es.best.x[-1]] ])"
   ]
  },
  {
   "cell_type": "code",
   "execution_count": null,
   "metadata": {},
   "outputs": [],
   "source": [
    "' '.join(['{:.03f}'.format(_) for _ in list(np.exp(def_num_log[:-1])) + [def_num_log[-1]] ])"
   ]
  },
  {
   "cell_type": "code",
   "execution_count": null,
   "metadata": {},
   "outputs": [],
   "source": []
  }
 ],
 "metadata": {
  "language_info": {
   "name": "python"
  }
 },
 "nbformat": 4,
 "nbformat_minor": 5
}

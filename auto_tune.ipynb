{
 "cells": [
  {
   "cell_type": "code",
   "execution_count": null,
   "metadata": {},
   "outputs": [],
   "source": [
    "from tune_util import *\n",
    "import numpy as np"
   ]
  },
  {
   "cell_type": "code",
   "execution_count": null,
   "metadata": {},
   "outputs": [],
   "source": [
    "import random\n",
    "import configparser\n",
    "import os\n",
    "episodes_config = configparser.ConfigParser(\n",
    "    allow_no_value=True, inline_comment_prefixes=\";\"\n",
    ")\n",
    "episodes_config.read(os.path.join(os.getcwd(), \"params/episode_params_val.ini\"))\n",
    "series = episodes_config.sections()[1:]"
   ]
  },
  {
   "cell_type": "code",
   "execution_count": null,
   "metadata": {},
   "outputs": [],
   "source": [
    "def_num = np.array([10,1,3,1000,4,1,0.8,2,0.35,2,3])\n",
    "def_num_log = np.log(def_num)"
   ]
  },
  {
   "cell_type": "code",
   "execution_count": null,
   "metadata": {},
   "outputs": [],
   "source": [
    "my_log = []\n",
    "res = exec_seqs(def_num_log,'test_eval',[random.choice(series)],log_file=my_log)\n",
    "res"
   ]
  },
  {
   "cell_type": "code",
   "execution_count": null,
   "metadata": {},
   "outputs": [],
   "source": [
    "import cma"
   ]
  },
  {
   "cell_type": "code",
   "execution_count": null,
   "metadata": {},
   "outputs": [],
   "source": [
    "es = cma.CMAEvolutionStrategy(def_num_log,0.1)\n",
    "while not es.stop():\n",
    "    solutions = es.ask()\n",
    "    r_vals = []\n",
    "    chosen = [random.choice(series)]\n",
    "    for params in solutions:\n",
    "        res = exec_seqs(def_num_log,'cma',chosen,log_file=my_log)\n",
    "        r_vals.append(res)\n",
    "    es.tell(solutions, r_vals)\n",
    "    es.logger.add()\n",
    "    es.disp()"
   ]
  },
  {
   "cell_type": "code",
   "execution_count": null,
   "metadata": {},
   "outputs": [],
   "source": [
    "results = {'cfg':es.best.x,'func':es.best.f,'log':my_log}\n",
    "import glob\n",
    "import pickle\n",
    "N=len(glob.glob('results*.pkl'))\n",
    "with open('results_{}.pkl'.format(N),'wb') as fp:\n",
    "    pickle.dump(results,fp)"
   ]
  },
  {
   "cell_type": "code",
   "execution_count": null,
   "metadata": {},
   "outputs": [],
   "source": [
    "chosen = [random.choice(series)]\n",
    "res1 = exec_seqs(def_num_log,'test_eval',chosen)\n",
    "res2 = exec_seqs(es.best.x,'test_eval',chosen)\n",
    "\n",
    "res1,res2"
   ]
  }
 ],
 "metadata": {
  "language_info": {
   "name": "python"
  }
 },
 "nbformat": 4,
 "nbformat_minor": 5
}

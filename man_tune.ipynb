{
 "cells": [
  {
   "cell_type": "code",
   "execution_count": null,
   "metadata": {},
   "outputs": [],
   "source": [
    "from tune_util import *\n",
    "import numpy as np\n",
    "import pickle\n",
    "import cv2"
   ]
  },
  {
   "cell_type": "code",
   "execution_count": null,
   "metadata": {},
   "outputs": [],
   "source": [
    "import random\n",
    "import configparser\n",
    "import os\n",
    "episodes_config = configparser.ConfigParser(\n",
    "    allow_no_value=True, inline_comment_prefixes=\";\"\n",
    ")\n",
    "episodes_config.read(os.path.join(os.getcwd(), \"params/episode_params_val.ini\"))\n",
    "series = episodes_config.sections()[1:]"
   ]
  },
  {
   "cell_type": "code",
   "execution_count": null,
   "metadata": {},
   "outputs": [],
   "source": [
    "def_num = np.array([10,1,3,1000,4,1,0.8,2,0.35,2,3])\n",
    "def_num_log = np.log(def_num)"
   ]
  },
  {
   "cell_type": "code",
   "execution_count": null,
   "metadata": {},
   "outputs": [],
   "source": [
    "my_log = []\n",
    "res = exec_seqs(def_num_log,'test_eval',['t_ETH1','--render'],log_file=my_log)\n",
    "res"
   ]
  },
  {
   "cell_type": "code",
   "execution_count": null,
   "metadata": {},
   "outputs": [],
   "source": [
    "import cma"
   ]
  },
  {
   "cell_type": "code",
   "execution_count": null,
   "metadata": {},
   "outputs": [],
   "source": [
    "es = cma.CMAEvolutionStrategy(def_num_log,0.1)\n",
    "opt_iter = 0\n",
    "best_subsets = []\n",
    "\n",
    "while not es.stop():\n",
    "    opt_iter += 1\n",
    "\n",
    "    solutions = es.ask()\n",
    "    #r_vals = []\n",
    "    chosen = [random.choice(series),'--render']\n",
    "    chosen = ['t_ETH1','--render']\n",
    "\n",
    "    for sol_i,params in enumerate(solutions):\n",
    "        res = exec_seqs(params,'mancma_{:03d}'.format(sol_i),chosen,log_file=my_log)\n",
    "        #r_vals.append(res)\n",
    "    \n",
    "    ind_r = []\n",
    "    for i in sorted(glob.glob(os.path.join(os.getcwd(),'tests/socnav/mancma_*'))):\n",
    "        # scary what if multiple run!?!\n",
    "        for pkl in glob.glob(os.path.join(i,'*/*.pkl')):\n",
    "            with open(pkl,'rb') as fp:\n",
    "                res = pickle.load(fp)\n",
    "\n",
    "            success = res['success']\n",
    "            time_taken = res['total_sim_time_taken']\n",
    "            collisions = res['total_collisions']\n",
    "            robot_motion = res['robot_motion_energy']\n",
    "            ped_dist = np.exp(-res['closest_pedestrian_distance']*2).sum()\n",
    "            costs = [5.1-5*success,time_taken,collisions+1,robot_motion,ped_dist]\n",
    "            cost = np.prod(costs)**(1.0/len(costs))\n",
    "            print(i,cost)\n",
    "\n",
    "            jpgs = sorted(glob.glob(pkl.replace('episode_score_','').replace('.pkl','_obs_obs*.jpg')))\n",
    "            read_data = [cv2.imread(_) for _ in jpgs]\n",
    "            ind_r.append((cost,read_data))\n",
    "\n",
    "    def compare(i,j):\n",
    "        cv2.destroyAllWindows()\n",
    "\n",
    "        c1,set1 = ind_r[i]\n",
    "        c2,set2 = ind_r[j]\n",
    "\n",
    "        s12_s = list(set1[0].shape)\n",
    "        s12_s[1]*=2\n",
    "        while True:\n",
    "            for i in range(max(len(set1),len(set2))):\n",
    "                cv2.imshow(\"Comp {:.1f} {:.1f}\".format(c1,c2), \n",
    "                           np.stack([set1[min(i,len(set1)-1)],set2[min(i,len(set2)-1)]],axis=1).reshape(s12_s))\n",
    "                a = cv2.waitKey(30)\n",
    "\n",
    "                if a == ord('1'):\n",
    "                    return 1\n",
    "                if a == ord('2'):\n",
    "                    return -1\n",
    "                if a == ord('3'):\n",
    "                    return 2*(c1 >c2)-1\n",
    "                if a == ord('q'):\n",
    "                    return\n",
    "                else:\n",
    "                    continue\n",
    "    res = sorted(list(range(len(ind_r))),key=functools.cmp_to_key(compare))\n",
    "    best_subsets.append((solutions[res[-1]],ind_r[res[-1]]))\n",
    "    t_vals = np.arange(len(solutions))/len(solutions)-opt_iter\n",
    "    t_vals = t_vals[::-1] # rewards become costs\n",
    "    r_vals = []\n",
    "    for i in sorted(range(len(solutions))):\n",
    "        v = t_vals[res.index(i)]\n",
    "    es.tell(solutions, r_vals)\n",
    "    es.logger.add()\n",
    "    es.disp()"
   ]
  },
  {
   "cell_type": "code",
   "execution_count": null,
   "metadata": {},
   "outputs": [],
   "source": []
  },
  {
   "cell_type": "code",
   "execution_count": null,
   "metadata": {},
   "outputs": [],
   "source": [
    "results = {'cfg':es.best.x,'func':es.best.f,'log':my_log}\n",
    "import glob\n",
    "import pickle\n",
    "N=len(glob.glob('mancma_results*.pkl'))\n",
    "with open('mancma_results_{}.pkl'.format(N),'wb') as fp:\n",
    "    pickle.dump(results,fp)"
   ]
  },
  {
   "cell_type": "code",
   "execution_count": null,
   "metadata": {},
   "outputs": [],
   "source": [
    "chosen = [random.choice(series)]\n",
    "res1 = exec_seqs(def_num_log,'test_eval',chosen)\n",
    "res2 = exec_seqs(es.best.x,'test_eval',chosen)\n",
    "\n",
    "res1,res2"
   ]
  }
 ],
 "metadata": {
  "language_info": {
   "name": "python"
  }
 },
 "nbformat": 4,
 "nbformat_minor": 5
}
